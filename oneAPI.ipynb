{
 "cells": [
  {
   "cell_type": "code",
   "execution_count": 1,
   "id": "441ab50a-3261-4297-9275-1261832860a7",
   "metadata": {},
   "outputs": [
    {
     "name": "stderr",
     "output_type": "stream",
     "text": [
      "Intel(R) Extension for Scikit-learn* enabled (https://github.com/intel/scikit-learn-intelex)\n"
     ]
    }
   ],
   "source": [
    "from sklearnex import patch_sklearn\n",
    "patch_sklearn()"
   ]
  },
  {
   "cell_type": "code",
   "execution_count": 2,
   "id": "f00468f2-90b9-49cb-9271-7f675d153780",
   "metadata": {},
   "outputs": [
    {
     "name": "stdout",
     "output_type": "stream",
     "text": [
      "Completed\n"
     ]
    },
    {
     "name": "stderr",
     "output_type": "stream",
     "text": [
      "[nltk_data] Downloading package stopwords to\n",
      "[nltk_data]     /home/u190314/nltk_data...\n",
      "[nltk_data]   Package stopwords is already up-to-date!\n"
     ]
    }
   ],
   "source": [
    "import string\n",
    "import re\n",
    "import nltk\n",
    "import pandas as pd\n",
    "import numpy as np\n",
    "from nltk.util import pr\n",
    "# from sklearn.feature_extraction.text import CountVectorizer\n",
    "# from sklearn.model_selection import train_test_split\n",
    "# from sklearn.tree import DecisionTreeClassifier\n",
    "from nltk.corpus import stopwords\n",
    "stemmer = nltk.SnowballStemmer(\"english\")\n",
    "nltk.download('stopwords')\n",
    "stopword=set(stopwords.words('english'))\n",
    "import warnings\n",
    "warnings.filterwarnings('ignore')\n",
    "\n",
    "print('Completed')"
   ]
  },
  {
   "cell_type": "code",
   "execution_count": 3,
   "id": "0aa3daab-0ae4-47db-affa-ad824aa0ff7f",
   "metadata": {},
   "outputs": [
    {
     "name": "stderr",
     "output_type": "stream",
     "text": [
      "b'Skipping line 6695: expected 11 fields, saw 12\\nSkipping line 10046: expected 11 fields, saw 12\\nSkipping line 13398: expected 11 fields, saw 12\\nSkipping line 20236: expected 11 fields, saw 12\\nSkipping line 51138: expected 11 fields, saw 12\\nSkipping line 61414: expected 11 fields, saw 13\\nSkipping line 64789: expected 11 fields, saw 12\\n'\n",
      "b'Skipping line 74968: expected 11 fields, saw 12\\nSkipping line 81746: expected 11 fields, saw 13\\nSkipping line 85129: expected 11 fields, saw 13\\nSkipping line 91902: expected 11 fields, saw 12\\nSkipping line 98453: expected 11 fields, saw 13\\nSkipping line 101850: expected 11 fields, saw 12\\n'\n"
     ]
    },
    {
     "data": {
      "text/html": [
       "<div>\n",
       "<style scoped>\n",
       "    .dataframe tbody tr th:only-of-type {\n",
       "        vertical-align: middle;\n",
       "    }\n",
       "\n",
       "    .dataframe tbody tr th {\n",
       "        vertical-align: top;\n",
       "    }\n",
       "\n",
       "    .dataframe thead th {\n",
       "        text-align: right;\n",
       "    }\n",
       "</style>\n",
       "<table border=\"1\" class=\"dataframe\">\n",
       "  <thead>\n",
       "    <tr style=\"text-align: right;\">\n",
       "      <th></th>\n",
       "      <th>IDLink</th>\n",
       "      <th>Title</th>\n",
       "      <th>Headline</th>\n",
       "      <th>Source</th>\n",
       "      <th>Topic</th>\n",
       "      <th>PublishDate</th>\n",
       "      <th>Facebook</th>\n",
       "      <th>GooglePlus</th>\n",
       "      <th>LinkedIn</th>\n",
       "      <th>SentimentTitle</th>\n",
       "      <th>SentimentHeadline</th>\n",
       "    </tr>\n",
       "  </thead>\n",
       "  <tbody>\n",
       "    <tr>\n",
       "      <th>0</th>\n",
       "      <td>Tr3CMgRv1N</td>\n",
       "      <td>Obama Lays Wreath at Arlington National Cemetery</td>\n",
       "      <td>Obama Lays Wreath at Arlington National Cemete...</td>\n",
       "      <td>USA TODAY</td>\n",
       "      <td>obama</td>\n",
       "      <td>02-04-2002 00:00</td>\n",
       "      <td>-1</td>\n",
       "      <td>-1</td>\n",
       "      <td>-1.0</td>\n",
       "      <td>0.000000</td>\n",
       "      <td>-0.053300</td>\n",
       "    </tr>\n",
       "    <tr>\n",
       "      <th>1</th>\n",
       "      <td>Wc81vGp8qZ</td>\n",
       "      <td>A Look at the Health of the Chinese Economy</td>\n",
       "      <td>Tim Haywood, investment director business-unit...</td>\n",
       "      <td>Bloomberg</td>\n",
       "      <td>economy</td>\n",
       "      <td>20-09-2008 00:00</td>\n",
       "      <td>-1</td>\n",
       "      <td>-1</td>\n",
       "      <td>-1.0</td>\n",
       "      <td>0.208333</td>\n",
       "      <td>-0.156386</td>\n",
       "    </tr>\n",
       "    <tr>\n",
       "      <th>2</th>\n",
       "      <td>zNGH03CrZH</td>\n",
       "      <td>Nouriel Roubini: Global Economy Not Back to 2008</td>\n",
       "      <td>Nouriel Roubini, NYU professor and chairman at...</td>\n",
       "      <td>Bloomberg</td>\n",
       "      <td>economy</td>\n",
       "      <td>28-01-2012 00:00</td>\n",
       "      <td>-1</td>\n",
       "      <td>-1</td>\n",
       "      <td>-1.0</td>\n",
       "      <td>-0.425210</td>\n",
       "      <td>0.139754</td>\n",
       "    </tr>\n",
       "    <tr>\n",
       "      <th>3</th>\n",
       "      <td>3sM1H0W8ts</td>\n",
       "      <td>Finland GDP Expands In Q4</td>\n",
       "      <td>Finland's economy expanded marginally in the t...</td>\n",
       "      <td>RTT News</td>\n",
       "      <td>economy</td>\n",
       "      <td>01-03-2015 00:06</td>\n",
       "      <td>-1</td>\n",
       "      <td>-1</td>\n",
       "      <td>-1.0</td>\n",
       "      <td>0.000000</td>\n",
       "      <td>0.026064</td>\n",
       "    </tr>\n",
       "    <tr>\n",
       "      <th>4</th>\n",
       "      <td>wUbnxgvqaZ</td>\n",
       "      <td>Tourism, govt spending buoys Thai economy in J...</td>\n",
       "      <td>Tourism and public spending continued to boost...</td>\n",
       "      <td>The Nation - Thailand&amp;#39;s English news</td>\n",
       "      <td>economy</td>\n",
       "      <td>01-03-2015 00:11</td>\n",
       "      <td>-1</td>\n",
       "      <td>-1</td>\n",
       "      <td>-1.0</td>\n",
       "      <td>0.000000</td>\n",
       "      <td>0.141084</td>\n",
       "    </tr>\n",
       "  </tbody>\n",
       "</table>\n",
       "</div>"
      ],
      "text/plain": [
       "       IDLink                                              Title  \\\n",
       "0  Tr3CMgRv1N   Obama Lays Wreath at Arlington National Cemetery   \n",
       "1  Wc81vGp8qZ        A Look at the Health of the Chinese Economy   \n",
       "2  zNGH03CrZH   Nouriel Roubini: Global Economy Not Back to 2008   \n",
       "3  3sM1H0W8ts                          Finland GDP Expands In Q4   \n",
       "4  wUbnxgvqaZ  Tourism, govt spending buoys Thai economy in J...   \n",
       "\n",
       "                                            Headline  \\\n",
       "0  Obama Lays Wreath at Arlington National Cemete...   \n",
       "1  Tim Haywood, investment director business-unit...   \n",
       "2  Nouriel Roubini, NYU professor and chairman at...   \n",
       "3  Finland's economy expanded marginally in the t...   \n",
       "4  Tourism and public spending continued to boost...   \n",
       "\n",
       "                                     Source    Topic       PublishDate  \\\n",
       "0                                 USA TODAY    obama  02-04-2002 00:00   \n",
       "1                                 Bloomberg  economy  20-09-2008 00:00   \n",
       "2                                 Bloomberg  economy  28-01-2012 00:00   \n",
       "3                                  RTT News  economy  01-03-2015 00:06   \n",
       "4  The Nation - Thailand&#39;s English news  economy  01-03-2015 00:11   \n",
       "\n",
       "   Facebook  GooglePlus  LinkedIn  SentimentTitle  SentimentHeadline  \n",
       "0        -1          -1      -1.0        0.000000          -0.053300  \n",
       "1        -1          -1      -1.0        0.208333          -0.156386  \n",
       "2        -1          -1      -1.0       -0.425210           0.139754  \n",
       "3        -1          -1      -1.0        0.000000           0.026064  \n",
       "4        -1          -1      -1.0        0.000000           0.141084  "
      ]
     },
     "execution_count": 3,
     "metadata": {},
     "output_type": "execute_result"
    }
   ],
   "source": [
    "import numpy as np\n",
    "import pandas as pd\n",
    "\n",
    "df = pd.read_csv(\"./training_data.csv\",error_bad_lines=False)\n",
    "df.head()\n",
    "# df.info()"
   ]
  },
  {
   "cell_type": "code",
   "execution_count": 4,
   "id": "d15a6061-1c02-4106-82e0-4a6c13af24cc",
   "metadata": {},
   "outputs": [
    {
     "data": {
      "text/plain": [
       "(111555, 11)"
      ]
     },
     "execution_count": 4,
     "metadata": {},
     "output_type": "execute_result"
    }
   ],
   "source": [
    "\n",
    "df['SentimentHeadline'] = df['SentimentHeadline'].dropna()\n",
    "\n",
    "df.shape"
   ]
  },
  {
   "cell_type": "code",
   "execution_count": 5,
   "id": "8f19f1e7-a22a-4d85-bbc5-c2c468c22eb6",
   "metadata": {},
   "outputs": [],
   "source": [
    "df.to_csv('file.csv')"
   ]
  },
  {
   "cell_type": "code",
   "execution_count": 6,
   "id": "36323bd4-cd60-47c3-8e8f-18cc459df007",
   "metadata": {},
   "outputs": [
    {
     "data": {
      "text/plain": [
       "(111555, 11)"
      ]
     },
     "execution_count": 6,
     "metadata": {},
     "output_type": "execute_result"
    }
   ],
   "source": [
    "df1 = pd.read_csv(\"./file1.csv\")\n",
    "df1.reset_index(drop=True)\n",
    "df1.head()\n",
    "df1.shape"
   ]
  },
  {
   "cell_type": "code",
   "execution_count": 7,
   "id": "f5d67328-f42c-45e9-a990-e915114bf590",
   "metadata": {},
   "outputs": [
    {
     "name": "stdout",
     "output_type": "stream",
     "text": [
      "0                obama lay wreath arlington nation cemeteri\n",
      "1                                look health chines economi\n",
      "2                      nouriel roubini global economi back \n",
      "3                                       finland gdp expand \n",
      "4              tourism govt spend buoy thai economi januari\n",
      "                                ...                        \n",
      "111550    sander econom plan torn apart former clinton o...\n",
      "111551    uk antiterror polic question student free pale...\n",
      "111552       un urg israel end demolit palestinian properti\n",
      "111553                  new cruz ad link rubio obama immigr\n",
      "111554    sander econom plan torn apart former clinton o...\n",
      "Name: Title, Length: 111555, dtype: object\n"
     ]
    }
   ],
   "source": [
    "import regex as re\n",
    "import string\n",
    "from nltk.corpus import stopwords\n",
    "stemmer = nltk.SnowballStemmer(\"english\")\n",
    "# from nltk.stem import PorterStemmer\n",
    "def clean(text):\n",
    "    text=str(text).lower()\n",
    "    text=re.sub('\\[.*?\\}]','',text)\n",
    "    text=re.sub('https?://\\S+|www\\.\\S+','',text)\n",
    "    text=re.sub('<.*?>+','',text)\n",
    "    text=re.sub('[%s]'%re.escape(string.punctuation),'',text)\n",
    "    text=re.sub('\\n','',text)\n",
    "    text=re.sub('\\w*\\d\\w*','',text)\n",
    "    text=[word for word in text.split(' ') if word not in stopword]\n",
    "    text=\" \".join(text)\n",
    "    text=[stemmer.stem(word) for word in text.split(' ')]\n",
    "    text=\" \".join(text)\n",
    "    return text\n",
    "df1['Title']=df1['Title'].apply(clean)\n",
    "df1['Headline']=df1['Headline'].apply(clean)\n",
    "df1['Source']=df1['Source'].apply(clean)\n",
    "df1['Topic']=df1['Topic'].apply(clean)\n",
    "\n",
    "\n",
    "print(df1['Title'])"
   ]
  },
  {
   "cell_type": "code",
   "execution_count": 8,
   "id": "893cda1c-214b-46b2-94a9-a82496af00bf",
   "metadata": {},
   "outputs": [
    {
     "data": {
      "text/plain": [
       "Index(['IDLink', 'Title', 'Headline', 'Source', 'Topic', 'PublishDate',\n",
       "       'Facebook', 'GooglePlus', 'LinkedIn', 'SentimentTitle',\n",
       "       'SentimentHeadline'],\n",
       "      dtype='object')"
      ]
     },
     "execution_count": 8,
     "metadata": {},
     "output_type": "execute_result"
    }
   ],
   "source": [
    "df1.columns"
   ]
  },
  {
   "cell_type": "code",
   "execution_count": 9,
   "id": "d435ac53-9d18-4b5e-9274-e1d5819e5276",
   "metadata": {},
   "outputs": [
    {
     "data": {
      "text/plain": [
       "(111555, 11)"
      ]
     },
     "execution_count": 9,
     "metadata": {},
     "output_type": "execute_result"
    }
   ],
   "source": [
    "# print(df1['Topic'])\n",
    "df1['Topic'].unique()\n",
    "df1['Topic'].replace(' ',np.nan,inplace = True)\n",
    "df1.shape"
   ]
  },
  {
   "cell_type": "code",
   "execution_count": 10,
   "id": "a539d468-6480-4b91-9c53-86d08d4dcdde",
   "metadata": {},
   "outputs": [
    {
     "data": {
      "text/plain": [
       "array(['obama', 'economi', 'microsoft', 'palestin'], dtype=object)"
      ]
     },
     "execution_count": 10,
     "metadata": {},
     "output_type": "execute_result"
    }
   ],
   "source": [
    "df1.dropna(subset = ['Topic'],inplace = True)\n",
    "df1.shape\n",
    "df1['Topic'].unique()\n"
   ]
  },
  {
   "cell_type": "code",
   "execution_count": 11,
   "id": "6f5462f9-03f8-420a-a893-17ae37ae4958",
   "metadata": {},
   "outputs": [
    {
     "data": {
      "text/plain": [
       "(111551, 11)"
      ]
     },
     "execution_count": 11,
     "metadata": {},
     "output_type": "execute_result"
    }
   ],
   "source": [
    "df1.shape"
   ]
  },
  {
   "cell_type": "code",
   "execution_count": 12,
   "id": "68244cae-c13f-495a-81c2-db70ac752db1",
   "metadata": {},
   "outputs": [
    {
     "data": {
      "text/plain": [
       "(111551, 11)"
      ]
     },
     "execution_count": 12,
     "metadata": {},
     "output_type": "execute_result"
    }
   ],
   "source": [
    "df1['Title'].replace(' ',np.nan,inplace = True)\n",
    "\n",
    "df1['Title'].unique()\n",
    "df1.dropna(subset = ['Title'],inplace = True)\n",
    "df1.shape"
   ]
  },
  {
   "cell_type": "code",
   "execution_count": 13,
   "id": "9dce3bce-879a-4410-ab5a-21d3680b39e6",
   "metadata": {},
   "outputs": [
    {
     "data": {
      "text/plain": [
       "(111548, 11)"
      ]
     },
     "execution_count": 13,
     "metadata": {},
     "output_type": "execute_result"
    }
   ],
   "source": [
    "df1['Headline'].replace(' ',np.nan,inplace = True)\n",
    "\n",
    "df1['Headline'].unique()\n",
    "df1.dropna(subset = ['Headline'],inplace = True)\n",
    "df1.shape\n"
   ]
  },
  {
   "cell_type": "code",
   "execution_count": 14,
   "id": "50620c5b-6e41-4cd2-8adf-c0e53354ef2a",
   "metadata": {},
   "outputs": [
    {
     "data": {
      "text/plain": [
       "(111450, 11)"
      ]
     },
     "execution_count": 14,
     "metadata": {},
     "output_type": "execute_result"
    }
   ],
   "source": [
    "df1['Source'].replace(' ',np.nan,inplace = True)\n",
    "\n",
    "df1['Source'].unique()\n",
    "df1.dropna(subset = ['Source'],inplace = True)\n",
    "df1.shape\n",
    "# Source"
   ]
  },
  {
   "cell_type": "code",
   "execution_count": 15,
   "id": "5a57df77-a2d8-464e-8333-1f2c8f1ea284",
   "metadata": {},
   "outputs": [
    {
     "data": {
      "text/plain": [
       "Index(['IDLink', 'Title', 'Headline', 'Source', 'Topic', 'PublishDate',\n",
       "       'Facebook', 'GooglePlus', 'LinkedIn', 'SentimentTitle',\n",
       "       'SentimentHeadline'],\n",
       "      dtype='object')"
      ]
     },
     "execution_count": 15,
     "metadata": {},
     "output_type": "execute_result"
    }
   ],
   "source": [
    "df1.columns\n",
    "# df1['']"
   ]
  },
  {
   "cell_type": "code",
   "execution_count": 16,
   "id": "d7c719d4-4db9-4bc7-806d-1044c77661f9",
   "metadata": {},
   "outputs": [
    {
     "data": {
      "text/plain": [
       "array([ 0.        ,  0.20833333, -0.42521003, ..., -0.03392003,\n",
       "       -0.16351844,  0.07222659])"
      ]
     },
     "execution_count": 16,
     "metadata": {},
     "output_type": "execute_result"
    }
   ],
   "source": [
    "df1['SentimentTitle'].unique()"
   ]
  },
  {
   "cell_type": "code",
   "execution_count": 17,
   "id": "539ba9e0-ed5b-455b-93d9-ce91a2d8a073",
   "metadata": {},
   "outputs": [
    {
     "data": {
      "text/plain": [
       "0"
      ]
     },
     "execution_count": 17,
     "metadata": {},
     "output_type": "execute_result"
    }
   ],
   "source": [
    "df1['SentimentTitle'].isnull().sum()"
   ]
  },
  {
   "cell_type": "code",
   "execution_count": 18,
   "id": "1df5cc37-9fbc-49ca-9379-3dc11fbfc3b0",
   "metadata": {},
   "outputs": [
    {
     "data": {
      "text/plain": [
       "0"
      ]
     },
     "execution_count": 18,
     "metadata": {},
     "output_type": "execute_result"
    }
   ],
   "source": [
    "df1['SentimentHeadline'].isnull().sum()\n"
   ]
  },
  {
   "cell_type": "code",
   "execution_count": 19,
   "id": "15779b47-a0ac-41dc-b748-7275ed55e7ea",
   "metadata": {},
   "outputs": [
    {
     "data": {
      "text/html": [
       "<div>\n",
       "<style scoped>\n",
       "    .dataframe tbody tr th:only-of-type {\n",
       "        vertical-align: middle;\n",
       "    }\n",
       "\n",
       "    .dataframe tbody tr th {\n",
       "        vertical-align: top;\n",
       "    }\n",
       "\n",
       "    .dataframe thead th {\n",
       "        text-align: right;\n",
       "    }\n",
       "</style>\n",
       "<table border=\"1\" class=\"dataframe\">\n",
       "  <thead>\n",
       "    <tr style=\"text-align: right;\">\n",
       "      <th></th>\n",
       "      <th>IDLink</th>\n",
       "      <th>Title</th>\n",
       "      <th>Headline</th>\n",
       "      <th>Source</th>\n",
       "      <th>Topic</th>\n",
       "      <th>PublishDate</th>\n",
       "      <th>Facebook</th>\n",
       "      <th>GooglePlus</th>\n",
       "      <th>LinkedIn</th>\n",
       "      <th>SentimentTitle</th>\n",
       "      <th>SentimentHeadline</th>\n",
       "    </tr>\n",
       "  </thead>\n",
       "  <tbody>\n",
       "    <tr>\n",
       "      <th>0</th>\n",
       "      <td>Tr3CMgRv1N</td>\n",
       "      <td>obama lay wreath arlington nation cemeteri</td>\n",
       "      <td>obama lay wreath arlington nation cemeteri pre...</td>\n",
       "      <td>usa today</td>\n",
       "      <td>obama</td>\n",
       "      <td>2/4/2002 0:00</td>\n",
       "      <td>-1</td>\n",
       "      <td>-1</td>\n",
       "      <td>-1.0</td>\n",
       "      <td>0.000000</td>\n",
       "      <td>-0.053300</td>\n",
       "    </tr>\n",
       "    <tr>\n",
       "      <th>1</th>\n",
       "      <td>Wc81vGp8qZ</td>\n",
       "      <td>look health chines economi</td>\n",
       "      <td>tim haywood invest director businessunit head ...</td>\n",
       "      <td>bloomberg</td>\n",
       "      <td>economi</td>\n",
       "      <td>20-09-2008 00:00</td>\n",
       "      <td>-1</td>\n",
       "      <td>-1</td>\n",
       "      <td>-1.0</td>\n",
       "      <td>0.208333</td>\n",
       "      <td>-0.156386</td>\n",
       "    </tr>\n",
       "    <tr>\n",
       "      <th>2</th>\n",
       "      <td>zNGH03CrZH</td>\n",
       "      <td>nouriel roubini global economi back</td>\n",
       "      <td>nouriel roubini nyu professor chairman roubini...</td>\n",
       "      <td>bloomberg</td>\n",
       "      <td>economi</td>\n",
       "      <td>28-01-2012 00:00</td>\n",
       "      <td>-1</td>\n",
       "      <td>-1</td>\n",
       "      <td>-1.0</td>\n",
       "      <td>-0.425210</td>\n",
       "      <td>0.139754</td>\n",
       "    </tr>\n",
       "    <tr>\n",
       "      <th>3</th>\n",
       "      <td>3sM1H0W8ts</td>\n",
       "      <td>finland gdp expand</td>\n",
       "      <td>finland economi expand margin three month end ...</td>\n",
       "      <td>rtt news</td>\n",
       "      <td>economi</td>\n",
       "      <td>1/3/2015 0:06</td>\n",
       "      <td>-1</td>\n",
       "      <td>-1</td>\n",
       "      <td>-1.0</td>\n",
       "      <td>0.000000</td>\n",
       "      <td>0.026064</td>\n",
       "    </tr>\n",
       "    <tr>\n",
       "      <th>4</th>\n",
       "      <td>wUbnxgvqaZ</td>\n",
       "      <td>tourism govt spend buoy thai economi januari</td>\n",
       "      <td>tourism public spend continu boost economi jan...</td>\n",
       "      <td>nation   english news</td>\n",
       "      <td>economi</td>\n",
       "      <td>1/3/2015 0:11</td>\n",
       "      <td>-1</td>\n",
       "      <td>-1</td>\n",
       "      <td>-1.0</td>\n",
       "      <td>0.000000</td>\n",
       "      <td>0.141084</td>\n",
       "    </tr>\n",
       "  </tbody>\n",
       "</table>\n",
       "</div>"
      ],
      "text/plain": [
       "       IDLink                                         Title  \\\n",
       "0  Tr3CMgRv1N    obama lay wreath arlington nation cemeteri   \n",
       "1  Wc81vGp8qZ                    look health chines economi   \n",
       "2  zNGH03CrZH          nouriel roubini global economi back    \n",
       "3  3sM1H0W8ts                           finland gdp expand    \n",
       "4  wUbnxgvqaZ  tourism govt spend buoy thai economi januari   \n",
       "\n",
       "                                            Headline                 Source  \\\n",
       "0  obama lay wreath arlington nation cemeteri pre...              usa today   \n",
       "1  tim haywood invest director businessunit head ...              bloomberg   \n",
       "2  nouriel roubini nyu professor chairman roubini...              bloomberg   \n",
       "3  finland economi expand margin three month end ...               rtt news   \n",
       "4  tourism public spend continu boost economi jan...  nation   english news   \n",
       "\n",
       "     Topic       PublishDate  Facebook  GooglePlus  LinkedIn  SentimentTitle  \\\n",
       "0    obama     2/4/2002 0:00        -1          -1      -1.0        0.000000   \n",
       "1  economi  20-09-2008 00:00        -1          -1      -1.0        0.208333   \n",
       "2  economi  28-01-2012 00:00        -1          -1      -1.0       -0.425210   \n",
       "3  economi     1/3/2015 0:06        -1          -1      -1.0        0.000000   \n",
       "4  economi     1/3/2015 0:11        -1          -1      -1.0        0.000000   \n",
       "\n",
       "   SentimentHeadline  \n",
       "0          -0.053300  \n",
       "1          -0.156386  \n",
       "2           0.139754  \n",
       "3           0.026064  \n",
       "4           0.141084  "
      ]
     },
     "execution_count": 19,
     "metadata": {},
     "output_type": "execute_result"
    }
   ],
   "source": [
    "df1.head()"
   ]
  },
  {
   "cell_type": "code",
   "execution_count": 20,
   "id": "a25d88d4-bbbc-474c-ab17-70b360460767",
   "metadata": {},
   "outputs": [
    {
     "data": {
      "text/plain": [
       "(111450, 11)"
      ]
     },
     "execution_count": 20,
     "metadata": {},
     "output_type": "execute_result"
    }
   ],
   "source": [
    "df1.shape"
   ]
  },
  {
   "cell_type": "code",
   "execution_count": 21,
   "id": "6ccde2e9-aac4-4ec9-bb9c-cc5d02ba2100",
   "metadata": {},
   "outputs": [
    {
     "name": "stdout",
     "output_type": "stream",
     "text": [
      "IDLink 0\n",
      "IDLink 0\n",
      "Title 0\n",
      "Title 0\n",
      "Headline 0\n",
      "Headline 0\n",
      "Source 0\n",
      "Source 0\n",
      "Topic 0\n",
      "Topic 0\n",
      "PublishDate 0\n",
      "PublishDate 0\n",
      "Facebook 0\n",
      "Facebook 0\n",
      "GooglePlus 0\n",
      "GooglePlus 0\n",
      "LinkedIn 0\n",
      "LinkedIn 0\n",
      "SentimentTitle 0\n",
      "SentimentTitle 0\n",
      "SentimentHeadline 0\n",
      "SentimentHeadline 0\n"
     ]
    }
   ],
   "source": [
    "for i in df1.columns:\n",
    "    # print(\"isnul\")\n",
    "    print(i,df1[f\"{i}\"].isnull().sum())\n",
    "    # print(\"isna\")\n",
    "    print(i,df1[f\"{i}\"].isna().sum())\n",
    "    # print(\"isnull\")\n",
    "    # print(i,df1[f\"{i}\"].isnull().sum())\n",
    "    "
   ]
  },
  {
   "cell_type": "code",
   "execution_count": 22,
   "id": "058d8ef7-00ba-492d-9af3-a0f141981f8e",
   "metadata": {},
   "outputs": [],
   "source": [
    "df1.to_csv('final.csv')"
   ]
  },
  {
   "cell_type": "code",
   "execution_count": null,
   "id": "9e53f0a8-7367-456e-988d-0f0101a2c7fb",
   "metadata": {},
   "outputs": [],
   "source": []
  },
  {
   "cell_type": "code",
   "execution_count": null,
   "id": "006c5d8b-b9f9-48f9-b9f0-2fa9e07e0e2e",
   "metadata": {},
   "outputs": [],
   "source": []
  },
  {
   "cell_type": "code",
   "execution_count": null,
   "id": "65d6f5f9-aa57-40fe-8c9e-97b09e8fdead",
   "metadata": {},
   "outputs": [],
   "source": []
  },
  {
   "cell_type": "code",
   "execution_count": null,
   "id": "320bddab-eca8-4f01-a37e-768b836180d2",
   "metadata": {},
   "outputs": [],
   "source": []
  },
  {
   "cell_type": "code",
   "execution_count": null,
   "id": "a959eefe-3139-4a36-911c-3568c2179aa4",
   "metadata": {},
   "outputs": [],
   "source": []
  }
 ],
 "metadata": {
  "kernelspec": {
   "display_name": "Python 3 (OpenVINO 2020.3.2 LTS)",
   "language": "python",
   "name": "c003-python_3_lts"
  },
  "language_info": {
   "codemirror_mode": {
    "name": "ipython",
    "version": 3
   },
   "file_extension": ".py",
   "mimetype": "text/x-python",
   "name": "python",
   "nbconvert_exporter": "python",
   "pygments_lexer": "ipython3",
   "version": "3.6.9"
  }
 },
 "nbformat": 4,
 "nbformat_minor": 5
}
