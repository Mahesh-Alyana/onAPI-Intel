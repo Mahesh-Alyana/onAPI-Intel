{
  "cells": [
    {
      "cell_type": "markdown",
      "metadata": {
        "id": "view-in-github",
        "colab_type": "text"
      },
      "source": [
        "<a href=\"https://colab.research.google.com/github/Mahesh-Alyana/oneAPI-Intel/blob/kaushik/oneAPI%20for%20reserch.ipynb\" target=\"_parent\"><img src=\"https://colab.research.google.com/assets/colab-badge.svg\" alt=\"Open In Colab\"/></a>"
      ]
    },
    {
      "cell_type": "code",
      "execution_count": 15,
      "id": "MqMot_ZAmyMR",
      "metadata": {
        "colab": {
          "base_uri": "https://localhost:8080/"
        },
        "id": "MqMot_ZAmyMR",
        "outputId": "2567b5be-4fcd-4f11-c573-df1d397179df"
      },
      "outputs": [
        {
          "output_type": "stream",
          "name": "stderr",
          "text": [
            "[nltk_data] Downloading package stopwords to /root/nltk_data...\n",
            "[nltk_data]   Package stopwords is already up-to-date!\n",
            "[nltk_data] Downloading package punkt to /root/nltk_data...\n",
            "[nltk_data]   Package punkt is already up-to-date!\n",
            "[nltk_data] Downloading package wordnet to /root/nltk_data...\n",
            "[nltk_data]   Package wordnet is already up-to-date!\n"
          ]
        },
        {
          "output_type": "execute_result",
          "data": {
            "text/plain": [
              "True"
            ]
          },
          "metadata": {},
          "execution_count": 15
        }
      ],
      "source": [
        "import nltk\n",
        "nltk.download('stopwords')\n",
        "nltk.download('punkt')\n",
        "nltk.download('wordnet')\n"
      ]
    },
    {
      "cell_type": "code",
      "execution_count": 16,
      "id": "eUWkp5OJmd2L",
      "metadata": {
        "id": "eUWkp5OJmd2L"
      },
      "outputs": [],
      "source": [
        "import pandas as pd\n",
        "import nltk\n",
        "from nltk.corpus import stopwords\n",
        "from nltk.stem import WordNetLemmatizer\n",
        "import string\n",
        "\n",
        "# Load dataset\n",
        "df = pd.read_csv(\"/content/training_data_sentiment.csv\")\n",
        "\n",
        "# Remove unnecessary columns\n",
        "df = df.drop(['Source', 'PublishDate'], axis=1)\n",
        "\n",
        "# Remove missing values\n",
        "df = df.dropna()\n",
        "\n",
        "# Define stopwords and lemmatizer\n",
        "stop_words = set(stopwords.words('english'))\n",
        "lemmatizer = WordNetLemmatizer()\n",
        "\n",
        "# Define function for text preprocessing\n",
        "def preprocess_text(text):\n",
        "    # Convert to lowercase\n",
        "    text = text.lower()\n",
        "    \n",
        "    # Remove punctuation\n",
        "    text = text.translate(str.maketrans(\"\", \"\", string.punctuation))\n",
        "    \n",
        "    # Tokenize text\n",
        "    tokens = nltk.word_tokenize(text)\n",
        "    \n",
        "    # Remove stopwords\n",
        "    tokens = [token for token in tokens if token not in stop_words]\n",
        "    \n",
        "    # Lemmatize tokens\n",
        "    tokens = [lemmatizer.lemmatize(token) for token in tokens]\n",
        "    \n",
        "    # Join tokens to form text again\n",
        "    text = \" \".join(tokens)\n",
        "    \n",
        "    return text\n",
        "\n",
        "# Preprocess text in the dataset\n",
        "df['clean_title'] = df['Title'].apply(preprocess_text)\n"
      ]
    },
    {
      "cell_type": "code",
      "execution_count": 17,
      "id": "330b91af-d47f-4b0f-8242-eae20de191de",
      "metadata": {
        "colab": {
          "base_uri": "https://localhost:8080/"
        },
        "id": "330b91af-d47f-4b0f-8242-eae20de191de",
        "outputId": "f6313b0d-cc10-4942-9e0e-bc642c7216f9"
      },
      "outputs": [
        {
          "output_type": "execute_result",
          "data": {
            "text/plain": [
              "array(['obama', 'economy', 'microsoft', 'palestine'], dtype=object)"
            ]
          },
          "metadata": {},
          "execution_count": 17
        }
      ],
      "source": [
        "df['Topic'].unique()"
      ]
    },
    {
      "cell_type": "code",
      "source": [
        "df.shape"
      ],
      "metadata": {
        "colab": {
          "base_uri": "https://localhost:8080/"
        },
        "id": "3_AUugWpUT6G",
        "outputId": "47578acc-3903-42dd-fb0f-acba40b047f8"
      },
      "id": "3_AUugWpUT6G",
      "execution_count": 35,
      "outputs": [
        {
          "output_type": "execute_result",
          "data": {
            "text/plain": [
              "(13488, 11)"
            ]
          },
          "metadata": {},
          "execution_count": 35
        }
      ]
    },
    {
      "cell_type": "code",
      "execution_count": 18,
      "id": "0ce2f9f3-aa0e-44e4-b1fd-f7a56e740cab",
      "metadata": {
        "colab": {
          "base_uri": "https://localhost:8080/",
          "height": 423
        },
        "id": "0ce2f9f3-aa0e-44e4-b1fd-f7a56e740cab",
        "outputId": "de70ebe8-eac4-4cfc-9f63-5e01caf22a30"
      },
      "outputs": [
        {
          "output_type": "display_data",
          "data": {
            "text/plain": [
              "<Figure size 640x480 with 1 Axes>"
            ],
            "image/png": "[encoded data removed]"
          },
          "metadata": {}
        },
        {
          "output_type": "display_data",
          "data": {
            "text/plain": [
              "<Figure size 640x480 with 0 Axes>"
            ]
          },
          "metadata": {}
        }
      ],
      "source": [
        "import matplotlib.pyplot as plt\n",
        "import pandas as pd\n",
        "\n",
        "# Example data\n",
        "fb_column = pd.Series([-1, 0, 1])\n",
        "\n",
        "# Count the number of occurrences of each value\n",
        "value_counts = df['Facebook'].value_counts()\n",
        "\n",
        "# Calculate the percentage of each value\n",
        "total = len(fb_column)\n",
        "percent_neg_one = value_counts[-1] / total * 100\n",
        "percent_zero = value_counts[0] / total * 100\n",
        "percent_one = value_counts[1] / total * 100\n",
        "\n",
        "# Create a pie chart\n",
        "labels = ['-1', '0', '1']\n",
        "sizes = [percent_neg_one, percent_zero, percent_one]\n",
        "plt.pie(sizes, labels=labels, autopct='%1.1f%%')\n",
        "plt.axis('equal')\n",
        "plt.show()\n",
        "plt.savefig('fb.png')"
      ]
    },
    {
      "cell_type": "code",
      "execution_count": 19,
      "id": "e840102a-ecd5-4b01-b27c-38716d0dc80c",
      "metadata": {
        "colab": {
          "base_uri": "https://localhost:8080/",
          "height": 423
        },
        "id": "e840102a-ecd5-4b01-b27c-38716d0dc80c",
        "outputId": "fcd69a49-3323-408c-80f2-76cab4870e0b"
      },
      "outputs": [
        {
          "output_type": "display_data",
          "data": {
            "text/plain": [
              "<Figure size 640x480 with 1 Axes>"
            ],
            "image/png": "[encoded data removed]"
          },
          "metadata": {}
        },
        {
          "output_type": "display_data",
          "data": {
            "text/plain": [
              "<Figure size 640x480 with 0 Axes>"
            ]
          },
          "metadata": {}
        }
      ],
      "source": [
        "import matplotlib.pyplot as plt\n",
        "import pandas as pd\n",
        "\n",
        "# Example data\n",
        "fb_column = pd.Series([-1, 0, 1])\n",
        "\n",
        "# Count the number of occurrences of each value\n",
        "value_counts = df['GooglePlus'].value_counts()\n",
        "\n",
        "# Calculate the percentage of each value\n",
        "total = len(fb_column)\n",
        "percent_neg_one = value_counts[-1] / total * 100\n",
        "percent_zero = value_counts[0] / total * 100\n",
        "percent_one = value_counts[1] / total * 100\n",
        "\n",
        "# Create a pie chart\n",
        "labels = ['-1', '0', '1']\n",
        "sizes = [percent_neg_one, percent_zero, percent_one]\n",
        "plt.pie(sizes, labels=labels, autopct='%1.1f%%')\n",
        "plt.axis('equal')\n",
        "plt.show()\n",
        "plt.savefig('gp.png')"
      ]
    },
    {
      "cell_type": "code",
      "execution_count": 20,
      "id": "605e5970-9a94-4321-b238-2d2b4986de82",
      "metadata": {
        "colab": {
          "base_uri": "https://localhost:8080/",
          "height": 423
        },
        "id": "605e5970-9a94-4321-b238-2d2b4986de82",
        "outputId": "d6ec7602-7f87-418f-e42e-9cb5648fc965"
      },
      "outputs": [
        {
          "output_type": "display_data",
          "data": {
            "text/plain": [
              "<Figure size 640x480 with 1 Axes>"
            ],
            "image/png": "[encoded data removed]"
          },
          "metadata": {}
        },
        {
          "output_type": "display_data",
          "data": {
            "text/plain": [
              "<Figure size 640x480 with 0 Axes>"
            ]
          },
          "metadata": {}
        }
      ],
      "source": [
        "import matplotlib.pyplot as plt\n",
        "import pandas as pd\n",
        "\n",
        "# Example data\n",
        "fb_column = pd.Series([-1, 0, 1])\n",
        "\n",
        "# Count the number of occurrences of each value\n",
        "value_counts = df['LinkedIn'].value_counts()\n",
        "\n",
        "# Calculate the percentage of each value\n",
        "total = len(fb_column)\n",
        "percent_neg_one = value_counts[-1] / total * 100\n",
        "percent_zero = value_counts[0] / total * 100\n",
        "percent_one = value_counts[1] / total * 100\n",
        "\n",
        "# Create a pie chart\n",
        "labels = ['-1', '0', '1']\n",
        "sizes = [percent_neg_one, percent_zero, percent_one]\n",
        "plt.pie(sizes, labels=labels, autopct='%1.1f%%')\n",
        "plt.axis('equal')\n",
        "plt.show()\n",
        "plt.savefig('ln.png')"
      ]
    },
    {
      "cell_type": "code",
      "execution_count": 21,
      "id": "LTnRET8Cml6A",
      "metadata": {
        "id": "LTnRET8Cml6A"
      },
      "outputs": [],
      "source": [
        "df['clean_headline'] = df['Headline'].apply(preprocess_text)"
      ]
    },
    {
      "cell_type": "code",
      "execution_count": 22,
      "id": "Hy1tLJsamw2j",
      "metadata": {
        "colab": {
          "base_uri": "https://localhost:8080/"
        },
        "id": "Hy1tLJsamw2j",
        "outputId": "1df72092-59ef-4c06-ad3f-2d0b9f54367e"
      },
      "outputs": [
        {
          "output_type": "stream",
          "name": "stdout",
          "text": [
            "(0, '0.045*\"microsoft\" + 0.020*\"obama\" + 0.012*\"palestine\" + 0.009*\"shooting\" + 0.008*\"office\" + 0.008*\"palestinian\" + 0.008*\"cloud\" + 0.007*\"new\" + 0.007*\"san\" + 0.006*\"law\"')\n",
            "(1, '0.113*\"economy\" + 0.014*\"u\" + 0.011*\"economic\" + 0.010*\"climate\" + 0.010*\"china\" + 0.009*\"growth\" + 0.007*\"say\" + 0.007*\"global\" + 0.007*\"attack\" + 0.005*\"2016\"')\n",
            "(2, '0.078*\"microsoft\" + 0.017*\"window\" + 0.013*\"microsofts\" + 0.013*\"obama\" + 0.013*\"10\" + 0.009*\"new\" + 0.009*\"one\" + 0.008*\"gun\" + 0.008*\"xbox\" + 0.007*\"update\"')\n",
            "(3, '0.091*\"obama\" + 0.027*\"obamas\" + 0.016*\"president\" + 0.012*\"isi\" + 0.010*\"state\" + 0.010*\"say\" + 0.009*\"surface\" + 0.009*\"palestine\" + 0.009*\"terrorism\" + 0.008*\"u\"')\n"
          ]
        }
      ],
      "source": [
        "import gensim\n",
        "\n",
        "# Convert preprocessed text to gensim dictionary and corpus\n",
        "texts = [doc.split() for doc in df['clean_title']]\n",
        "dictionary = gensim.corpora.Dictionary(texts)\n",
        "corpus = [dictionary.doc2bow(text) for text in texts]\n",
        "\n",
        "# Define number of topics and run LDA model\n",
        "num_topics = 4\n",
        "lda_model = gensim.models.LdaModel(corpus, num_topics=num_topics, id2word=dictionary, passes=10)\n",
        "\n",
        "# Print top words in each topic\n",
        "for topic in lda_model.show_topics(num_topics=num_topics):\n",
        "    print(topic)\n"
      ]
    },
    {
      "cell_type": "code",
      "execution_count": 23,
      "id": "7KHgzObsnm92",
      "metadata": {
        "colab": {
          "base_uri": "https://localhost:8080/"
        },
        "id": "7KHgzObsnm92",
        "outputId": "334fe959-0866-4bbf-8874-e61ce5f14355"
      },
      "outputs": [
        {
          "output_type": "stream",
          "name": "stdout",
          "text": [
            "(0, '0.062*\"economy\" + 0.020*\"economic\" + 0.014*\"year\" + 0.011*\"growth\" + 0.009*\"said\" + 0.008*\"u\" + 0.008*\"quarter\" + 0.008*\"percent\" + 0.006*\"rate\" + 0.006*\"month\"')\n",
            "(1, '0.059*\"obama\" + 0.053*\"president\" + 0.028*\"barack\" + 0.012*\"u\" + 0.011*\"said\" + 0.010*\"state\" + 0.010*\"obamas\" + 0.009*\"paris\" + 0.008*\"washington\" + 0.006*\"sunday\"')\n",
            "(2, '0.010*\"one\" + 0.010*\"shooting\" + 0.009*\"surface\" + 0.008*\"xbox\" + 0.007*\"first\" + 0.007*\"lumia\" + 0.006*\"oval\" + 0.006*\"new\" + 0.006*\"refugee\" + 0.005*\"time\"')\n",
            "(3, '0.053*\"microsoft\" + 0.015*\"new\" + 0.013*\"window\" + 0.011*\"company\" + 0.009*\"10\" + 0.008*\"microsofts\" + 0.006*\"announced\" + 0.005*\"today\" + 0.005*\"’\" + 0.005*\"service\"')\n",
            "(4, '0.024*\"palestinian\" + 0.016*\"palestine\" + 0.012*\"2015\" + 0.009*\"israeli\" + 0.008*\"israel\" + 0.006*\"isi\" + 0.006*\"dec\" + 0.006*\"december\" + 0.006*\"international\" + 0.005*\"mass\"')\n"
          ]
        }
      ],
      "source": [
        "import gensim\n",
        "\n",
        "# Convert preprocessed text to gensim dictionary and corpus\n",
        "texts = [doc.split() for doc in df['clean_headline']]\n",
        "dictionary = gensim.corpora.Dictionary(texts)\n",
        "corpus = [dictionary.doc2bow(text) for text in texts]\n",
        "\n",
        "# Define number of topics and run LDA model\n",
        "num_topics = 5\n",
        "lda_model = gensim.models.LdaModel(corpus, num_topics=num_topics, id2word=dictionary, passes=10)\n",
        "\n",
        "# Print top words in each topic\n",
        "for topic in lda_model.show_topics(num_topics=num_topics):\n",
        "    print(topic)"
      ]
    },
    {
      "cell_type": "code",
      "execution_count": 24,
      "id": "6Xqpg1VKowL9",
      "metadata": {
        "id": "6Xqpg1VKowL9"
      },
      "outputs": [],
      "source": [
        "from sklearn.model_selection import train_test_split\n",
        "from sklearn.feature_extraction.text import TfidfVectorizer\n",
        "from sklearn.svm import LinearSVC\n",
        "from sklearn.metrics import classification_report\n",
        "\n",
        "# Split data into training and testing sets\n",
        "X_train, X_test, y_train, y_test = train_test_split(df['clean_title'], df['SentimentTitle'], test_size=0.2, random_state=42)\n",
        "\n",
        "# Vectorize text using TF-IDF\n",
        "vectorizer = TfidfVectorizer()\n",
        "X_train_vec = vectorizer.fit_transform(X_train)\n",
        "X_test_vec = vectorizer.transform(X_test)\n",
        "\n",
        "\n"
      ]
    },
    {
      "cell_type": "code",
      "execution_count": 25,
      "id": "Dw8g8xbmp_Xs",
      "metadata": {
        "colab": {
          "base_uri": "https://localhost:8080/"
        },
        "id": "Dw8g8xbmp_Xs",
        "outputId": "da5b5e20-fff7-4932-9bd4-5a6bd54c8dec"
      },
      "outputs": [
        {
          "output_type": "stream",
          "name": "stdout",
          "text": [
            " 0.000000    2143\n",
            " 0.041667     138\n",
            " 0.044194     113\n",
            "-0.088388     103\n",
            " 0.039528      99\n",
            "             ... \n",
            "-0.396981       1\n",
            " 0.101278       1\n",
            " 0.049870       1\n",
            "-0.099158       1\n",
            "-0.173529       1\n",
            "Name: SentimentTitle, Length: 3004, dtype: int64\n"
          ]
        }
      ],
      "source": [
        "print(y_train.value_counts())\n"
      ]
    },
    {
      "cell_type": "code",
      "execution_count": 26,
      "id": "JkYXVD8ArNDo",
      "metadata": {
        "id": "JkYXVD8ArNDo"
      },
      "outputs": [],
      "source": [
        "import pandas as pd\n",
        "\n",
        "# Convert continuous values to discrete labels\n",
        "y_train = pd.cut(y_train, bins=[-float(\"inf\"),-0.0001,0.0001, float(\"inf\")], labels=[0, 1, 2])\n",
        "y_test = pd.cut(y_test, bins=[-float(\"inf\"), -0.0001,0.0001, float(\"inf\")], labels=[0, 1, 2])"
      ]
    },
    {
      "cell_type": "code",
      "execution_count": 27,
      "id": "kgbrUMgeqXbK",
      "metadata": {
        "colab": {
          "base_uri": "https://localhost:8080/"
        },
        "id": "kgbrUMgeqXbK",
        "outputId": "0f0295c9-8109-49b3-9e11-37c3982e5aab"
      },
      "outputs": [
        {
          "output_type": "stream",
          "name": "stdout",
          "text": [
            "0    4525\n",
            "2    4120\n",
            "1    2145\n",
            "Name: SentimentTitle, dtype: int64\n"
          ]
        }
      ],
      "source": [
        "print(y_train.value_counts())\n"
      ]
    },
    {
      "cell_type": "code",
      "execution_count": 29,
      "id": "7v5RMIn1pMhv",
      "metadata": {
        "colab": {
          "base_uri": "https://localhost:8080/"
        },
        "id": "7v5RMIn1pMhv",
        "outputId": "e0ecbf74-afff-4490-fe4a-2743dfd24168"
      },
      "outputs": [
        {
          "output_type": "stream",
          "name": "stdout",
          "text": [
            "              precision    recall  f1-score   support\n",
            "\n",
            "           0       0.00      0.00      0.00      1120\n",
            "           1       0.12      0.26      0.16       521\n",
            "           2       0.57      0.84      0.68      1057\n",
            "\n",
            "    accuracy                           0.38      2698\n",
            "   macro avg       0.23      0.37      0.28      2698\n",
            "weighted avg       0.25      0.38      0.30      2698\n",
            "\n"
          ]
        },
        {
          "output_type": "stream",
          "name": "stderr",
          "text": [
            "/usr/local/lib/python3.10/dist-packages/sklearn/metrics/_classification.py:1344: UndefinedMetricWarning: Precision and F-score are ill-defined and being set to 0.0 in labels with no predicted samples. Use `zero_division` parameter to control this behavior.\n",
            "  _warn_prf(average, modifier, msg_start, len(result))\n",
            "/usr/local/lib/python3.10/dist-packages/sklearn/metrics/_classification.py:1344: UndefinedMetricWarning: Precision and F-score are ill-defined and being set to 0.0 in labels with no predicted samples. Use `zero_division` parameter to control this behavior.\n",
            "  _warn_prf(average, modifier, msg_start, len(result))\n",
            "/usr/local/lib/python3.10/dist-packages/sklearn/metrics/_classification.py:1344: UndefinedMetricWarning: Precision and F-score are ill-defined and being set to 0.0 in labels with no predicted samples. Use `zero_division` parameter to control this behavior.\n",
            "  _warn_prf(average, modifier, msg_start, len(result))\n"
          ]
        }
      ],
      "source": [
        "# Train SVM classifier\n",
        "svm = LinearSVC()\n",
        "svm.fit(X_train_vec, y_train)\n",
        "\n",
        "# Predict on test data\n",
        "y_pred = svm.predict(X_test_vec)\n",
        "y_pred = pd.cut(y_pred, bins=[-float(\"inf\"),-0.0001,0.0001, float(\"inf\")], labels=[0, 1,2])\n",
        "\n",
        "# Print classification report\n",
        "print(classification_report(y_test, y_pred))"
      ]
    },
    {
      "cell_type": "code",
      "execution_count": 30,
      "id": "7fmQt7hvtDt_",
      "metadata": {
        "colab": {
          "base_uri": "https://localhost:8080/"
        },
        "id": "7fmQt7hvtDt_",
        "outputId": "63d12a98-46fe-4efb-9590-40a3fd28c320"
      },
      "outputs": [
        {
          "output_type": "execute_result",
          "data": {
            "text/plain": [
              "0       0\n",
              "1    1145\n",
              "2    1553\n",
              "dtype: int64"
            ]
          },
          "metadata": {},
          "execution_count": 30
        }
      ],
      "source": [
        "y_pred.value_counts()"
      ]
    },
    {
      "cell_type": "code",
      "execution_count": 31,
      "id": "ivTeEco5qrDa",
      "metadata": {
        "id": "ivTeEco5qrDa"
      },
      "outputs": [],
      "source": [
        "from sklearn.model_selection import train_test_split\n",
        "from sklearn.feature_extraction.text import TfidfVectorizer\n",
        "from sklearn.svm import LinearSVC\n",
        "from sklearn.metrics import classification_report\n",
        "\n",
        "# Split data into training and testing sets\n",
        "X_train, X_test, y_train, y_test = train_test_split(df['clean_headline'], df['SentimentHeadline'], test_size=0.2, random_state=42)\n",
        "\n",
        "# Vectorize text using TF-IDF\n",
        "vectorizer = TfidfVectorizer()\n",
        "X_train_vec = vectorizer.fit_transform(X_train)\n",
        "X_test_vec = vectorizer.transform(X_test)"
      ]
    },
    {
      "cell_type": "code",
      "execution_count": 32,
      "id": "zPCuwenKrUdl",
      "metadata": {
        "id": "zPCuwenKrUdl"
      },
      "outputs": [],
      "source": [
        "import pandas as pd\n",
        "\n",
        "# Convert continuous values to discrete labels\n",
        "y_train = pd.cut(y_train, bins=[-float(\"inf\"),-0.0001,0.0001, float(\"inf\")], labels=[0, 1,2])\n",
        "y_test = pd.cut(y_test, bins=[-float(\"inf\"), -0.0001,0.0001, float(\"inf\")], labels=[0, 1,2])"
      ]
    },
    {
      "cell_type": "code",
      "execution_count": 36,
      "id": "k4BQQM_zq-jV",
      "metadata": {
        "id": "k4BQQM_zq-jV"
      },
      "outputs": [],
      "source": [
        "# Train SVM classifier\n",
        "svm = LinearSVC()\n",
        "svm.fit(X_train_vec, y_train)\n",
        "\n",
        "# Predict on test data\n",
        "y_pred = svm.predict(X_test_vec)\n",
        "y_pred = pd.cut(y_pred, bins=[-float(\"inf\"), -0.0001,0.0001 , float(\"inf\")], labels=[0, 1,2])\n",
        "\n"
      ]
    },
    {
      "cell_type": "code",
      "execution_count": 37,
      "id": "2NDhmELDrCCv",
      "metadata": {
        "colab": {
          "base_uri": "https://localhost:8080/"
        },
        "id": "2NDhmELDrCCv",
        "outputId": "5e2fdaf2-f8f7-4970-c203-ba493f19ac7c"
      },
      "outputs": [
        {
          "output_type": "execute_result",
          "data": {
            "text/plain": [
              "0       0\n",
              "1    1657\n",
              "2    1041\n",
              "dtype: int64"
            ]
          },
          "metadata": {},
          "execution_count": 37
        }
      ],
      "source": [
        "y_pred.value_counts()"
      ]
    },
    {
      "cell_type": "code",
      "execution_count": 34,
      "id": "CVzR_VGWtHeW",
      "metadata": {
        "id": "CVzR_VGWtHeW"
      },
      "outputs": [],
      "source": []
    }
  ],
  "metadata": {
    "accelerator": "GPU",
    "colab": {
      "provenance": [],
      "include_colab_link": true
    },
    "gpuClass": "standard",
    "kernelspec": {
      "display_name": "Python 3 (ipykernel)",
      "language": "python",
      "name": "python3"
    },
    "language_info": {
      "codemirror_mode": {
        "name": "ipython",
        "version": 3
      },
      "file_extension": ".py",
      "mimetype": "text/x-python",
      "name": "python",
      "nbconvert_exporter": "python",
      "pygments_lexer": "ipython3",
      "version": "3.11.2"
    }
  },
  "nbformat": 4,
  "nbformat_minor": 5
}